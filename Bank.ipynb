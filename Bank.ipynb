{
 "cells": [
  {
   "cell_type": "code",
   "execution_count": null,
   "metadata": {},
   "outputs": [],
   "source": [
    "# Object : variables + Methods\n",
    "import datetime as dt;\n",
    "class Account:\n",
    "    # Class Variable\n",
    "    bankName = \"State Bank of India\";\n",
    "\n",
    "    # Constructor\n",
    "    def __init__(self,numID,name,age):\n",
    "        self.numID = numID;\n",
    "        self.name = name;\n",
    "        self.age = age;\n",
    "    \n",
    "    # Methods\n",
    "    def showBankName(self):\n",
    "        print(\"Bank Name : \",Account.bankName);\n",
    "    \n",
    "    def account_type(self):\n",
    "        if (self.numID[0] == \"A\"):\n",
    "            self.type = \"Saving\";\n",
    "        elif (self.numID[0] == \"B\"):\n",
    "            self.type = \"Current\";\n",
    "        else:\n",
    "            self.type = \"Unknown\";\n",
    "    \n",
    "    def interest_rate(self):\n",
    "        if (self.type == \"Saving\"):\n",
    "            self.interest = 4.5;\n",
    "        elif (self.type == \"Current\"):\n",
    "            self.interest = 0;\n",
    "        else:\n",
    "            self.interest = 0;\n",
    "    \n",
    "    def interest_accrued(self):\n",
    "        self.interest_rate();\n",
    "        self.current_date = dt.datetime.now();\n",
    "        self.interest_accrued = (self.balance * self.interest * (self.current_date - self.open_date).days)/100;\n",
    "    \n",
    "    \n",
    "    \n",
    "    def deposit(self,amount):\n",
    "        self.balance = amount;\n",
    "    \n",
    "    def withdraw(self,amount):\n",
    "        if (amount > self.balance):\n",
    "            print(\"Insufficient Balance\");\n",
    "        else:\n",
    "            self.balance -= amount;\n",
    "    \n",
    "\n",
    "    def showAccount(self):\n",
    "        print(\"Account Details : {}\".format(self.numID));\n",
    "        print(\"Name : \",self.name);\n",
    "        print(\"Age : \",self.age);\n",
    "\n",
    "\n"
   ]
  },
  {
   "cell_type": "code",
   "execution_count": null,
   "metadata": {},
   "outputs": [],
   "source": [
    "acc1 = Account(\"A001\",\"Raj\",25);\n",
    "acc1.showBankName();\n",
    "acc1.showAccount();\n",
    "acc1.account_type();\n",
    "print(\"Account Type : \",acc1.type);\n",
    "acc1.interest_rate();\n",
    "print(\"Interest Rate : \",acc1.interest);\n",
    "acc1.deposit(10000);\n",
    "acc1.withdraw(5000);\n",
    "print(\"Balance : \",acc1.balance);\n",
    "acc1.interest_accrued();\n",
    "print(\"Interest Accrued : \",acc1.interest_accrued);\n",
    "\n"
   ]
  }
 ],
 "metadata": {
  "kernelspec": {
   "display_name": "base",
   "language": "python",
   "name": "python3"
  },
  "language_info": {
   "codemirror_mode": {
    "name": "ipython",
    "version": 3
   },
   "file_extension": ".py",
   "mimetype": "text/x-python",
   "name": "python",
   "nbconvert_exporter": "python",
   "pygments_lexer": "ipython3",
   "version": "3.11.5"
  }
 },
 "nbformat": 4,
 "nbformat_minor": 2
}
