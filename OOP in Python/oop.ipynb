{
 "cells": [
  {
   "cell_type": "code",
   "execution_count": 1,
   "metadata": {},
   "outputs": [],
   "source": [
    "# OOP in Python\n",
    "# 1. Class and Instance\n",
    "# 2. Access Modifier\n",
    "# 3. Inheritance\n",
    "# 4. Polymorphism\n",
    "# 5. Encapsulation\n",
    "\n",
    "# 1. Class and Instance\n",
    "class Employee:\n",
    "    # class variable\n",
    "    raise_amount = 1.04\n",
    "    num_of_emps = 0\n",
    "\n",
    "    # constructor\n",
    "    def __init__(self, first, last, pay):\n",
    "        # instance variable\n",
    "        self.first = first\n",
    "        self.last = last\n",
    "        self.pay = pay\n",
    "        self.email = first + '.' + last + '@company.com'\n",
    "\n",
    "        # class variable\n",
    "        Employee.num_of_emps += 1\n",
    "\n",
    "    # instance method\n",
    "    def fullname(self):\n",
    "        return '{} {}'.format(self.first, self.last)\n",
    "\n",
    "    # instance method\n",
    "    def apply_raise(self):\n",
    "        self.pay = int(self.pay * self.raise_amount)\n",
    "\n",
    "    # class method\n",
    "    @classmethod\n",
    "    def set_raise_amount(cls, amount):\n",
    "        cls.raise_amount = amount\n",
    "\n",
    "    # class method\n",
    "    @classmethod\n",
    "    def from_string(cls, emp_str):\n",
    "        first, last, pay = emp_str.split('-')\n",
    "        return cls(first, last, int(pay))\n",
    "\n",
    "    # static method\n",
    "    @staticmethod\n",
    "    def is_workday(day):\n",
    "        return day.weekday() != 5 and day.weekday() != 6\n",
    "    \n",
    "    # dunder method\n",
    "    def __repr__(self):\n",
    "        return \"Employee('{}', '{}', {})\".format(self.first, self.last, self.pay)\n",
    "    \n",
    "    # dunder method\n",
    "    def __str__(self):\n",
    "        return '{} - {}'.format(self.fullname(), self.email)\n",
    "    \n",
    "    # dunder method\n",
    "    def __add__(self, other):\n",
    "        return self.pay + other.pay\n",
    "    \n",
    "    # dunder method\n",
    "    def __len__(self):\n",
    "        return len(self.fullname())\n",
    "    \n",
    "    # dunder method\n",
    "    def __getitem__(self, key):\n",
    "        if isinstance(key, int):\n",
    "            return self.fullname().split()[key]\n",
    "        elif isinstance(key, slice):\n",
    "            return self.fullname().split()[key.start:key.stop:key.step]\n",
    "        else:\n",
    "            raise TypeError('Invalid argument type')\n",
    "        \n",
    "    # dunder method\n",
    "    def __del__(self):\n",
    "        print('{} is deleted'.format(self.fullname()))\n",
    "\n",
    "emp_1 = Employee('Corey', 'Schafer', 50000)\n",
    "emp_2 = Employee('Test', 'User', 60000)\n"
   ]
  },
  {
   "cell_type": "code",
   "execution_count": 3,
   "metadata": {},
   "outputs": [
    {
     "name": "stdout",
     "output_type": "stream",
     "text": [
      "Corey Schafer\n"
     ]
    }
   ],
   "source": [
    "# 2. Access Modifier\n",
    "# public\n",
    "print(emp_1.fullname())\n",
    "# protected\n",
    "# print(emp_1._Employee__protected)\n",
    "# # private\n",
    "# print(emp_1._Employee__private)\n",
    "\n",
    "\n"
   ]
  },
  {
   "cell_type": "code",
   "execution_count": 6,
   "metadata": {},
   "outputs": [
    {
     "name": "stdout",
     "output_type": "stream",
     "text": [
      "Corey Schafer is deleted\n",
      "Test User is deleted\n",
      "--> Test User\n",
      "True\n",
      "True\n",
      "False\n",
      "True\n",
      "True\n",
      "False\n"
     ]
    }
   ],
   "source": [
    "# 3. Inheritance\n",
    "class Developer(Employee):\n",
    "    raise_amount = 1.10\n",
    "\n",
    "    def __init__(self, first, last, pay, prog_lang):\n",
    "        # super().__init__(first, last, pay)\n",
    "        Employee.__init__(self, first, last, pay)\n",
    "        self.prog_lang = prog_lang\n",
    "\n",
    "\n",
    "class Manager(Employee):\n",
    "    raise_amount = 1.10\n",
    "\n",
    "    def __init__(self, first, last, pay, employees=None):\n",
    "        # super().__init__(first, last, pay)\n",
    "        Employee.__init__(self, first, last, pay)\n",
    "        if employees is None:\n",
    "            self.employees = []\n",
    "        else:\n",
    "            self.employees = employees\n",
    "    \n",
    "    def add_emp(self, emp):\n",
    "        if emp not in self.employees:\n",
    "            self.employees.append(emp)\n",
    "    \n",
    "    def remove_emp(self, emp):\n",
    "        if emp in self.employees:\n",
    "            self.employees.remove(emp)\n",
    "    \n",
    "    def print_emps(self):\n",
    "        for emp in self.employees:\n",
    "            print('-->', emp.fullname())\n",
    "\n",
    "dev1 = Developer('Corey', 'Schafer', 50000, 'Python')\n",
    "dev2 = Developer('Test', 'User', 60000, 'Java')\n",
    "\n",
    "mgr1 = Manager('Sue', 'Smith', 90000, [dev1])\n",
    "mgr1.add_emp(dev2)\n",
    "mgr1.remove_emp(dev1)\n",
    "mgr1.print_emps()\n",
    "\n",
    "print(isinstance(mgr1, Manager))\n",
    "print(isinstance(mgr1, Employee))\n",
    "print(isinstance(mgr1, Developer))\n",
    "\n",
    "print(issubclass(Developer, Employee))\n",
    "print(issubclass(Manager, Employee))\n",
    "print(issubclass(Manager, Developer))\n",
    "\n"
   ]
  },
  {
   "cell_type": "code",
   "execution_count": 7,
   "metadata": {},
   "outputs": [
    {
     "name": "stdout",
     "output_type": "stream",
     "text": [
      "3\n",
      "ab\n",
      "4\n",
      "3\n",
      "Corey Schafer - Corey.Schafer@company.com\n",
      "Employee('Corey', 'Schafer', 50000)\n",
      "Corey Schafer - Corey.Schafer@company.com\n",
      "Employee('Corey', 'Schafer', 50000)\n",
      "Corey Schafer - Corey.Schafer@company.com\n",
      "110000\n",
      "13\n",
      "Corey\n",
      "['Schafer']\n"
     ]
    }
   ],
   "source": [
    "# 4. Polymorphism\n",
    "print(1 + 2)\n",
    "print('a' + 'b')\n",
    "\n",
    "print(len('test'))\n",
    "print(len([1, 2, 3]))\n",
    "\n",
    "print(emp_1)\n",
    "print(repr(emp_1))\n",
    "print(str(emp_1))\n",
    "print(emp_1.__repr__())\n",
    "print(emp_1.__str__())\n",
    "\n",
    "print(emp_1 + emp_2)\n",
    "\n",
    "print(len(emp_1))\n",
    "\n",
    "print(emp_1[0])\n",
    "print(emp_1[1:3])\n",
    "\n",
    "del emp_1"
   ]
  },
  {
   "cell_type": "code",
   "execution_count": 8,
   "metadata": {},
   "outputs": [
    {
     "ename": "NameError",
     "evalue": "name 'emp_1' is not defined",
     "output_type": "error",
     "traceback": [
      "\u001b[1;31m---------------------------------------------------------------------------\u001b[0m",
      "\u001b[1;31mNameError\u001b[0m                                 Traceback (most recent call last)",
      "Cell \u001b[1;32mIn[8], line 3\u001b[0m\n\u001b[0;32m      1\u001b[0m \u001b[38;5;66;03m# 5. Encapsulation\u001b[39;00m\n\u001b[0;32m      2\u001b[0m \u001b[38;5;66;03m# public\u001b[39;00m\n\u001b[1;32m----> 3\u001b[0m \u001b[38;5;28mprint\u001b[39m(emp_1\u001b[38;5;241m.\u001b[39mfullname())\n\u001b[0;32m      4\u001b[0m \u001b[38;5;66;03m# protected\u001b[39;00m\n\u001b[0;32m      5\u001b[0m \u001b[38;5;28mprint\u001b[39m(emp_1\u001b[38;5;241m.\u001b[39m_Employee__protected)\n",
      "\u001b[1;31mNameError\u001b[0m: name 'emp_1' is not defined"
     ]
    }
   ],
   "source": [
    "# 5. Encapsulation\n",
    "# public\n",
    "print(emp_1.fullname())\n",
    "# protected\n",
    "print(emp_1._Employee__protected)\n",
    "# # private\n",
    "print(emp_1._Employee__private)\n",
    "\n",
    "\n"
   ]
  },
  {
   "cell_type": "code",
   "execution_count": 11,
   "metadata": {},
   "outputs": [
    {
     "name": "stdout",
     "output_type": "stream",
     "text": [
      "Woof!\n",
      "Meow!\n"
     ]
    }
   ],
   "source": [
    "# 6. Abstract Class\n",
    "from abc import ABC, abstractmethod\n",
    "\n",
    "class Animal(ABC):\n",
    "    def __init__(self, name):\n",
    "        self.name = name\n",
    "    \n",
    "    @abstractmethod\n",
    "    def speak(self):\n",
    "        pass\n",
    "\n",
    "class Dog(Animal):\n",
    "    def speak(self):\n",
    "        print('Woof!')\n",
    "\n",
    "class Cat(Animal):\n",
    "    def speak(self):\n",
    "        print('Meow!')\n",
    "\n",
    "dog = Dog('dog')\n",
    "dog.speak()\n",
    "\n",
    "cat = Cat('cat')\n",
    "cat.speak()\n",
    "\n"
   ]
  },
  {
   "cell_type": "code",
   "execution_count": 12,
   "metadata": {},
   "outputs": [
    {
     "ename": "TypeError",
     "evalue": "Can't instantiate abstract class Animal with abstract method speak",
     "output_type": "error",
     "traceback": [
      "\u001b[1;31m---------------------------------------------------------------------------\u001b[0m",
      "\u001b[1;31mTypeError\u001b[0m                                 Traceback (most recent call last)",
      "Cell \u001b[1;32mIn[12], line 1\u001b[0m\n\u001b[1;32m----> 1\u001b[0m animal \u001b[38;5;241m=\u001b[39m Animal(\u001b[38;5;124m'\u001b[39m\u001b[38;5;124manimal\u001b[39m\u001b[38;5;124m'\u001b[39m)\n\u001b[0;32m      2\u001b[0m animal\u001b[38;5;241m.\u001b[39mspeak()\n",
      "\u001b[1;31mTypeError\u001b[0m: Can't instantiate abstract class Animal with abstract method speak"
     ]
    }
   ],
   "source": [
    "animal = Animal('animal')\n",
    "animal.speak()"
   ]
  },
  {
   "cell_type": "code",
   "execution_count": 13,
   "metadata": {},
   "outputs": [
    {
     "name": "stdout",
     "output_type": "stream",
     "text": [
      "Woof!\n",
      "Meow!\n"
     ]
    }
   ],
   "source": [
    "# 7. Abstract Class\n",
    "from abc import ABC, abstractmethod\n",
    "\n",
    "class Animal(ABC):\n",
    "    def __init__(self, name):\n",
    "        self.name = name\n",
    "    \n",
    "    @abstractmethod\n",
    "    def speak(self):\n",
    "        pass\n",
    "\n",
    "class Dog(Animal):\n",
    "    def speak(self):\n",
    "        print('Woof!')\n",
    "\n",
    "class Cat(Animal):\n",
    "    def speak(self):\n",
    "        print('Meow!')\n",
    "\n",
    "dog = Dog('dog')\n",
    "dog.speak()\n",
    "\n",
    "cat = Cat('cat')\n",
    "cat.speak()\n",
    "\n",
    "\n"
   ]
  },
  {
   "cell_type": "code",
   "execution_count": 14,
   "metadata": {},
   "outputs": [
    {
     "name": "stdout",
     "output_type": "stream",
     "text": [
      "Woof!\n",
      "Meow!\n"
     ]
    }
   ],
   "source": [
    "# 8. Abstract Class\n",
    "from abc import ABC, abstractmethod\n",
    "\n",
    "class Animal(ABC):\n",
    "    def __init__(self, name):\n",
    "        self.name = name\n",
    "    \n",
    "    @abstractmethod\n",
    "    def speak(self):\n",
    "        pass\n",
    "\n",
    "class Dog(Animal):\n",
    "    def speak(self):\n",
    "        print('Woof!')\n",
    "\n",
    "class Cat(Animal):\n",
    "    def speak(self):\n",
    "        print('Meow!')\n",
    "\n",
    "dog = Dog('dog')\n",
    "dog.speak()\n",
    "\n",
    "cat = Cat('cat')\n",
    "cat.speak()"
   ]
  }
 ],
 "metadata": {
  "kernelspec": {
   "display_name": "base",
   "language": "python",
   "name": "python3"
  },
  "language_info": {
   "codemirror_mode": {
    "name": "ipython",
    "version": 3
   },
   "file_extension": ".py",
   "mimetype": "text/x-python",
   "name": "python",
   "nbconvert_exporter": "python",
   "pygments_lexer": "ipython3",
   "version": "3.11.5"
  }
 },
 "nbformat": 4,
 "nbformat_minor": 2
}
